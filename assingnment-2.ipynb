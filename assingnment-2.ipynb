{
 "cells": [
  {
   "cell_type": "code",
   "execution_count": 2,
   "id": "de499024-21c4-4603-b979-1ad28722f49b",
   "metadata": {},
   "outputs": [
    {
     "name": "stdout",
     "output_type": "stream",
     "text": [
      "The area of the rectangle with length 5 and width 3 is 15.\n"
     ]
    }
   ],
   "source": [
    "def calculate_rectangle_area(length, width):\n",
    "    return length * width\n",
    "length = 5 \n",
    "width = 3  \n",
    "area = calculate_rectangle_area(length, width)\n",
    "print(f\"The area of the rectangle with length {length} and width {width} is {area}.\")\n"
   ]
  },
  {
   "cell_type": "code",
   "execution_count": 1,
   "id": "e4b1f499-2d15-40e5-bcdb-2a5c4f3f0aba",
   "metadata": {},
   "outputs": [
    {
     "name": "stdout",
     "output_type": "stream",
     "text": [
      "Before swapping:\n",
      "a = 5, b = 10\n",
      "After swapping:\n",
      "a = 10, b = 5\n"
     ]
    }
   ],
   "source": [
    "a = 5\n",
    "b = 10\n",
    "print(\"Before swapping:\")\n",
    "print(f\"a = {a}, b = {b}\")\n",
    "temp = a\n",
    "a = b\n",
    "b = temp\n",
    "print(\"After swapping:\")\n",
    "print(f\"a = {a}, b = {b}\")"
   ]
  },
  {
   "cell_type": "code",
   "execution_count": 3,
   "id": "43b59b08-a690-48cd-8658-2132d5a33e8c",
   "metadata": {},
   "outputs": [
    {
     "name": "stdout",
     "output_type": "stream",
     "text": [
      "100 degrees Fahrenheit is equal to 37.78 degrees Celsius.\n"
     ]
    }
   ],
   "source": [
    "def fahrenheit_to_celsius(fahrenheit):\n",
    "    celsius = (fahrenheit - 32) * 5 / 9\n",
    "    return celsius\n",
    "fahrenheit_temp = 100  \n",
    "celsius_temp = fahrenheit_to_celsius(fahrenheit_temp)\n",
    "print(f\"{fahrenheit_temp} degrees Fahrenheit is equal to {celsius_temp:.2f} degrees Celsius.\")\n"
   ]
  },
  {
   "cell_type": "code",
   "execution_count": 4,
   "id": "8b133e9e-ce81-4c8e-a003-bf09441e6e46",
   "metadata": {},
   "outputs": [
    {
     "name": "stdout",
     "output_type": "stream",
     "text": [
      "The volume of the sphere with radius 5 is 523.60.\n"
     ]
    }
   ],
   "source": [
    "import math\n",
    "def sphere_volume(radius):\n",
    "    return (4 / 3) * math.pi * radius**3\n",
    "radius = 5  \n",
    "volume = sphere_volume(radius)\n",
    "print(f\"The volume of the sphere with radius {radius} is {volume:.2f}.\")\n"
   ]
  },
  {
   "cell_type": "code",
   "execution_count": 5,
   "id": "244cf3d9-6174-426a-89e9-772f2bc4f36c",
   "metadata": {},
   "outputs": [
    {
     "name": "stdout",
     "output_type": "stream",
     "text": [
      "The average of 10, 20, and 30 is 20.00.\n"
     ]
    }
   ],
   "source": [
    "def average_of_three(num1, num2, num3):\n",
    "    return (num1 + num2 + num3) / 3\n",
    "number1 = 10  \n",
    "number2 = 20  \n",
    "number3 = 30  \n",
    "average = average_of_three(number1, number2, number3)\n",
    "print(f\"The average of {number1}, {number2}, and {number3} is {average:.2f}.\")\n"
   ]
  },
  {
   "cell_type": "code",
   "execution_count": 6,
   "id": "0d20c0db-81f8-4eb9-8910-581957624412",
   "metadata": {},
   "outputs": [
    {
     "name": "stdout",
     "output_type": "stream",
     "text": [
      "The number 7 is odd.\n"
     ]
    }
   ],
   "source": [
    "def check_even_odd(number):\n",
    "    if number % 2 == 0:\n",
    "        return \"even\"\n",
    "    else:\n",
    "        return \"odd\"\n",
    "number = 7  \n",
    "result = check_even_odd(number)\n",
    "print(f\"The number {number} is {result}.\")\n"
   ]
  },
  {
   "cell_type": "code",
   "execution_count": 7,
   "id": "072fa05c-69d9-4e53-9167-2b9899e528d9",
   "metadata": {},
   "outputs": [
    {
     "name": "stdout",
     "output_type": "stream",
     "text": [
      "The maximum of 10, 20, and 15 is 20.\n"
     ]
    }
   ],
   "source": [
    "def maximum_of_three(num1, num2, num3):\n",
    "    return max(num1, num2, num3)\n",
    "number1 = 10  \n",
    "number2 = 20  \n",
    "number3 = 15  \n",
    "maximum = maximum_of_three(number1, number2, number3)\n",
    "print(f\"The maximum of {number1}, {number2}, and {number3} is {maximum}.\")\n"
   ]
  },
  {
   "cell_type": "code",
   "execution_count": 8,
   "id": "915e74b3-e9cc-44b0-b920-2cf991da5431",
   "metadata": {},
   "outputs": [
    {
     "name": "stdout",
     "output_type": "stream",
     "text": [
      "2024 is a leap year.\n"
     ]
    }
   ],
   "source": [
    "def is_leap_year(year):\n",
    "    if (year % 4 == 0):\n",
    "        if (year % 100 == 0):\n",
    "            if (year % 400 == 0):\n",
    "                return True\n",
    "            else:\n",
    "                return False\n",
    "        else:\n",
    "            return True\n",
    "    else:\n",
    "        return False\n",
    "year = 2024  \n",
    "leap_year_status = is_leap_year(year)\n",
    "if leap_year_status:\n",
    "    print(f\"{year} is a leap year.\")\n",
    "else:\n",
    "    print(f\"{year} is not a leap year.\")\n"
   ]
  },
  {
   "cell_type": "code",
   "execution_count": 9,
   "id": "2ecbdc25-a4e4-4054-b6ad-f4798999beaa",
   "metadata": {},
   "outputs": [
    {
     "name": "stdout",
     "output_type": "stream",
     "text": [
      "The number -5 is negative.\n"
     ]
    }
   ],
   "source": [
    "def determine_sign(number):\n",
    "    if number > 0:\n",
    "        return \"positive\"\n",
    "    elif number < 0:\n",
    "        return \"negative\"\n",
    "    else:\n",
    "        return \"zero\"\n",
    "number = -5  \n",
    "sign = determine_sign(number)\n",
    "print(f\"The number {number} is {sign}.\")\n"
   ]
  },
  {
   "cell_type": "code",
   "execution_count": 10,
   "id": "c8c7e0d4-26a5-48de-9424-87a3af8c8499",
   "metadata": {},
   "outputs": [
    {
     "name": "stdout",
     "output_type": "stream",
     "text": [
      "A percentage of 85 corresponds to a grade of B.\n"
     ]
    }
   ],
   "source": [
    "def calculate_grade(percentage):\n",
    "    if 90 <= percentage <= 100:\n",
    "        return \"A\"\n",
    "    elif 80 <= percentage < 90:\n",
    "        return \"B\"\n",
    "    elif 70 <= percentage < 80:\n",
    "        return \"C\"\n",
    "    elif 60 <= percentage < 70:\n",
    "        return \"D\"\n",
    "    else:\n",
    "        return \"F\"\n",
    "percentage = 85 \n",
    "grade = calculate_grade(percentage)\n",
    "print(f\"A percentage of {percentage} corresponds to a grade of {grade}.\")\n"
   ]
  },
  {
   "cell_type": "code",
   "execution_count": 11,
   "id": "7c350330-75bd-4cfd-b809-0fc6298ef9a6",
   "metadata": {},
   "outputs": [
    {
     "name": "stdout",
     "output_type": "stream",
     "text": [
      "1\n",
      "2\n",
      "3\n",
      "4\n",
      "5\n",
      "6\n",
      "7\n",
      "8\n",
      "9\n",
      "10\n"
     ]
    }
   ],
   "source": [
    "def print_natural_numbers(n):\n",
    "    for i in range(1, n + 1):\n",
    "        print(i)\n",
    "n = 10  \n",
    "print_natural_numbers(n)\n"
   ]
  },
  {
   "cell_type": "code",
   "execution_count": 12,
   "id": "68efce62-9051-4105-9748-1305b93fbe65",
   "metadata": {},
   "outputs": [
    {
     "name": "stdout",
     "output_type": "stream",
     "text": [
      "The factorial of 5 is 120.\n"
     ]
    }
   ],
   "source": [
    "def factorial_iterative(n):\n",
    "    if n < 0:\n",
    "        raise ValueError(\"Factorial is not defined for negative numbers.\")\n",
    "    result = 1\n",
    "    for i in range(1, n + 1):\n",
    "        result *= i\n",
    "    return result\n",
    "number = 5  \n",
    "factorial = factorial_iterative(number)\n",
    "print(f\"The factorial of {number} is {factorial}.\")\n"
   ]
  },
  {
   "cell_type": "code",
   "execution_count": 13,
   "id": "6d133193-29c4-47c9-9acd-4700b8a0ac08",
   "metadata": {},
   "outputs": [
    {
     "name": "stdout",
     "output_type": "stream",
     "text": [
      "The Fibonacci sequence of length 10 is: [0, 1, 1, 2, 3, 5, 8, 13, 21, 34]\n"
     ]
    }
   ],
   "source": [
    "def generate_fibonacci(n):\n",
    "    if n <= 0:\n",
    "        return []\n",
    "    elif n == 1:\n",
    "        return [0]\n",
    "    elif n == 2:\n",
    "        return [0, 1]\n",
    "    \n",
    "    fibonacci_sequence = [0, 1]\n",
    "    while len(fibonacci_sequence) < n:\n",
    "        next_value = fibonacci_sequence[-1] + fibonacci_sequence[-2]\n",
    "        fibonacci_sequence.append(next_value)\n",
    "    \n",
    "    return fibonacci_sequence\n",
    "n = 10  \n",
    "fibonacci_sequence = generate_fibonacci(n)\n",
    "print(f\"The Fibonacci sequence of length {n} is: {fibonacci_sequence}\")\n"
   ]
  },
  {
   "cell_type": "code",
   "execution_count": 14,
   "id": "483cb3bc-5ede-4a49-8ace-5c0fd7488a4e",
   "metadata": {},
   "outputs": [
    {
     "name": "stdout",
     "output_type": "stream",
     "text": [
      "29 is a prime number.\n"
     ]
    }
   ],
   "source": [
    "def is_prime(number):\n",
    "    if number <= 1:\n",
    "        return False\n",
    "    if number <= 3:\n",
    "        return True\n",
    "    if number % 2 == 0 or number % 3 == 0:\n",
    "        return False\n",
    "    i = 5\n",
    "    while i * i <= number:\n",
    "        if number % i == 0 or number % (i + 2) == 0:\n",
    "            return False\n",
    "        i += 6\n",
    "    return True\n",
    "number = 29  \n",
    "prime_status = is_prime(number)\n",
    "if prime_status:\n",
    "    print(f\"{number} is a prime number.\")\n",
    "else:\n",
    "    print(f\"{number} is not a prime number.\")\n"
   ]
  },
  {
   "cell_type": "code",
   "execution_count": null,
   "id": "efa038bc-6668-4ffe-8bd2-bcf6567d2180",
   "metadata": {},
   "outputs": [
    {
     "name": "stdout",
     "output_type": "stream",
     "text": [
      "Multiplication table for 7:\n",
      "7 x 1 = 7\n",
      "7 x 2 = 14\n",
      "7 x 3 = 21\n",
      "7 x 4 = 28\n",
      "7 x 5 = 35\n",
      "7 x 6 = 42\n",
      "7 x 7 = 49\n",
      "7 x 8 = 56\n",
      "7 x 9 = 63\n",
      "7 x 10 = 70\n"
     ]
    }
   ],
   "source": [
    "def print_multiplication_table(number, up_to=10):\n",
    "    print(f\"Multiplication table for {number}:\")\n",
    "    for i in range(1, up_to + 1):\n",
    "        print(f\"{number} x {i} = {number * i}\")\n",
    "number = 7 \n",
    "up_to = 10 \n",
    "print_multiplication_table(number, up_to)\n"
   ]
  },
  {
   "cell_type": "code",
   "execution_count": 16,
   "id": "8b4b0214-af0d-4945-b93a-f5f0a87866ea",
   "metadata": {},
   "outputs": [
    {
     "name": "stdout",
     "output_type": "stream",
     "text": [
      "The sum of all even numbers between 1 and 10 is 30.\n"
     ]
    }
   ],
   "source": [
    "def sum_of_evens(n):\n",
    "    total_sum = 0\n",
    "    for i in range(2, n + 1, 2):\n",
    "        total_sum += i\n",
    "    return total_sum\n",
    "n = 10  \n",
    "even_sum = sum_of_evens(n)\n",
    "print(f\"The sum of all even numbers between 1 and {n} is {even_sum}.\")\n"
   ]
  },
  {
   "cell_type": "code",
   "execution_count": null,
   "id": "d29ceba4-e57e-4eec-8694-f4fa165040e8",
   "metadata": {},
   "outputs": [
    {
     "name": "stdout",
     "output_type": "stream",
     "text": [
      "The reverse of 12345 is 54321.\n"
     ]
    }
   ],
   "source": [
    "def reverse_number(number):\n",
    "    num_str = str(number)\n",
    "    reversed_str = num_str[::-1]\n",
    "    reversed_num = int(reversed_str)\n",
    "    return reversed_num\n",
    "number = 12345  \n",
    "reversed_number = reverse_number(number)\n",
    "print(f\"The reverse of {number} is {reversed_number}.\")\n"
   ]
  },
  {
   "cell_type": "code",
   "execution_count": 18,
   "id": "db5c891e-df98-44a6-b28d-83b23c4d6c3b",
   "metadata": {},
   "outputs": [
    {
     "name": "stdout",
     "output_type": "stream",
     "text": [
      "\"A man, a plan, a canal, Panama\" is a palindrome.\n"
     ]
    }
   ],
   "source": [
    "import re\n",
    "def is_palindrome(s):\n",
    "    cleaned_str = re.sub(r'[^a-zA-Z0-9]', '', s).lower()\n",
    "    return cleaned_str == cleaned_str[::-1]\n",
    "test_string = \"A man, a plan, a canal, Panama\"  \n",
    "palindrome_status = is_palindrome(test_string)\n",
    "if palindrome_status:\n",
    "    print(f'\"{test_string}\" is a palindrome.')\n",
    "else:\n",
    "    print(f'\"{test_string}\" is not a palindrome.')\n"
   ]
  },
  {
   "cell_type": "code",
   "execution_count": 19,
   "id": "fa61e01c-b3e8-4b40-909b-4c6c9b4e7b0b",
   "metadata": {},
   "outputs": [
    {
     "ename": "IndentationError",
     "evalue": "unexpected indent (2835752122.py, line 15)",
     "output_type": "error",
     "traceback": [
      "\u001b[1;36m  Cell \u001b[1;32mIn[19], line 15\u001b[1;36m\u001b[0m\n\u001b[1;33m    attempts += 1\u001b[0m\n\u001b[1;37m    ^\u001b[0m\n\u001b[1;31mIndentationError\u001b[0m\u001b[1;31m:\u001b[0m unexpected indent\n"
     ]
    }
   ],
   "source": [
    "import random\n",
    "def guess_number_game():\n",
    "    target_number = random.randint(1, 100)\n",
    "    attempts = 0\n",
    "    guess = None\n",
    "\n",
    "    print(\"Welcome to the Number Guessing Game!\")\n",
    "    print(\"I have selected a number between 1 and 100. Try to guess it.\")\n",
    "    while guess != target_number:\n",
    "        try:\n",
    "            guess = int(input(\"Enter your guess: \"))\n",
    "        except ValueError:\n",
    "            print(\"Please enter a valid integer.\")\n",
    "            continue\n",
    "               attempts += 1\n",
    "        if guess < target_number:\n",
    "            print(\"Too low! Try again.\")\n",
    "        elif guess > target_number:\n",
    "            print(\"Too high! Try again.\")\n",
    "        else:\n",
    "            print(f\"Congratulations! You guessed the number {target_number} correctly in {attempt\n"
   ]
  },
  {
   "cell_type": "code",
   "execution_count": 20,
   "id": "06c5d3f2-7eab-4f26-a5f5-18240b75f19a",
   "metadata": {},
   "outputs": [
    {
     "name": "stdout",
     "output_type": "stream",
     "text": [
      "The GCD of 56 and 98 is 14.\n"
     ]
    }
   ],
   "source": [
    "def gcd(a, b):\n",
    "    while b != 0:\n",
    "        a, b = b, a % b\n",
    "    return a\n",
    "num1 = 56  \n",
    "num2 = 98  \n",
    "gcd_result = gcd(num1, num2)\n",
    "print(f\"The GCD of {num1} and {num2} is {gcd_result}.\")\n"
   ]
  },
  {
   "cell_type": "code",
   "execution_count": null,
   "id": "4e50be24-8a40-497c-842d-d1146c196800",
   "metadata": {},
   "outputs": [],
   "source": []
  }
 ],
 "metadata": {
  "kernelspec": {
   "display_name": "Python 3 (ipykernel)",
   "language": "python",
   "name": "python3"
  },
  "language_info": {
   "codemirror_mode": {
    "name": "ipython",
    "version": 3
   },
   "file_extension": ".py",
   "mimetype": "text/x-python",
   "name": "python",
   "nbconvert_exporter": "python",
   "pygments_lexer": "ipython3",
   "version": "3.12.4"
  }
 },
 "nbformat": 4,
 "nbformat_minor": 5
}
